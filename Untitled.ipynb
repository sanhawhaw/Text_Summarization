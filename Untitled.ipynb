{
 "cells": [
  {
   "cell_type": "code",
   "execution_count": 27,
   "metadata": {},
   "outputs": [
    {
     "name": "stdout",
     "output_type": "stream",
     "text": [
      "bahasa indonesia adalah bahasa resmi republik indonesia[1] dan bahasa persatuan bangsa indonesia.[2] bahasa indonesia diresmikan penggunaannya setelah proklamasi kemerdekaan indonesia, tepatnya sehari sesudahnya, bersamaan dengan mulai berlakunya konstitusi. di timor leste, bahasa indonesia berstatus sebagai bahasa kerja.\n",
      "\n",
      "bahasa indonesia adalah salah satu dari banyak varietas bahasa melayu.[3] dasar yang dipakai sebagai dasar bahasa indonesia baku adalah bahasa melayu tinggi (\"melaka/riau\").[4][5] dalam perkembangannya, ia mengalami perubahan akibat penggunaannya sebagai bahasa kerja di lingkungan administrasi kolonial dan berbagai proses pembakuan sejak awal abad ke-20. penamaan \"bahasa indonesia\" diawali sejak dicanangkannya sumpah pemuda pada 28 oktober 1928, untuk menghindari kesan \"imperialisme bahasa\" apabila nama bahasa melayu tetap digunakan.[6] proses ini menyebabkan berbedanya bahasa indonesia saat ini dari varian bahasa melayu yang digunakan di riau dan kepulauan maupun semenanjung malaya. hingga saat ini, bahasa indonesia merupakan bahasa yang hidup, yang terus menghasilkan kata-kata baru, baik melalui penciptaan maupun penyerapan dari bahasa daerah dan bahasa asing.\n",
      "\n",
      "meskipun dipahami dan dituturkan oleh lebih dari 90% warga indonesia, bahasa indonesia bukanlah bahasa ibu bagi kebanyakan penuturnya. sebagian besar warga indonesia menggunakan salah satu dari 748 bahasa yang ada di indonesia sebagai bahasa ibu.[7] istilah \"bahasa indonesia\" paling umum dikaitkan dengan bahasa baku yang digunakan dalam situasi formal.[4] ragam bahasa baku tersebut berhubungan diglosik dengan bentuk-bentuk bahasa melayu vernakular yang digunakan sebagai peranti komunikasi sehari-hari.[4] artinya, penutur bahasa indonesia kerap kali menggunakan versi sehari-hari (colloquial) dan/atau mencampuradukkan dengan dialek melayu lainnya atau bahasa ibunya. meskipun demikian, bahasa indonesia digunakan sangat luas di perguruan-perguruan, di media massa, sastra, perangkat lunak, surat-menyurat resmi, dan berbagai forum publik lainnya,[8] sehingga dapatlah dikatakan bahwa bahasa indonesia digunakan oleh semua warga indonesia.\n",
      "\n",
      "fonologi dan tata bahasa bahasa indonesia dianggap relatif mudah.[9] menurut sebagian peneliti, dasar-dasar yang penting untuk komunikasi dasar dapat dipelajari hanya dalam kurun waktu beberapa minggu.[10] \n"
     ]
    }
   ],
   "source": [
    "import bs4 as bs\n",
    "import urllib.request\n",
    "import re\n",
    "import nltk\n",
    "import Sastrawi\n",
    "\n",
    "file1 = open(\"C:/Users/E0405123/Documents/Project 2020/Digital Dashboard/98147056179/SampleQA.txt\",\"r+\") \n",
    "#print (\"Output of Read function is \")\n",
    "#print (file1.read() )\n",
    "\n",
    "article = file1.read()\n",
    "article_lower = article.lower()\n",
    "parsed_article = bs.BeautifulSoup(article_lower,'lxml')\n",
    "\n",
    "paragraphs = parsed_article.find_all('p')\n",
    "\n",
    "article_text = \"\"\n",
    "\n",
    "for p in paragraphs:\n",
    "    article_text += p.text\n",
    "\n",
    "\n",
    "\n",
    "print (article_text)\n",
    "\n",
    "\n"
   ]
  },
  {
   "cell_type": "code",
   "execution_count": 28,
   "metadata": {},
   "outputs": [],
   "source": [
    "# Removing Square Brackets and Extra Spaces\n",
    "article_text = re.sub(r'\\[[0-9]*\\]', ' ', article_text)\n",
    "article_text = re.sub(r'\\s+', ' ', article_text)"
   ]
  },
  {
   "cell_type": "code",
   "execution_count": 29,
   "metadata": {},
   "outputs": [],
   "source": [
    "# Removing special characters and digits\n",
    "formatted_article_text = re.sub('[^a-zA-Z]', ' ', article_text )\n",
    "formatted_article_text = re.sub(r'\\s+', ' ', formatted_article_text)"
   ]
  },
  {
   "cell_type": "code",
   "execution_count": 30,
   "metadata": {},
   "outputs": [],
   "source": [
    "sentence_list = nltk.sent_tokenize(article_text)"
   ]
  },
  {
   "cell_type": "code",
   "execution_count": 31,
   "metadata": {},
   "outputs": [
    {
     "name": "stdout",
     "output_type": "stream",
     "text": [
      "{'bahasa': 34, 'indonesia': 21, 'resmi': 2, 'republik': 1, 'persatuan': 1, 'bangsa': 1, 'diresmikan': 1, 'penggunaannya': 2, 'proklamasi': 1, 'kemerdekaan': 1, 'tepatnya': 1, 'sehari': 3, 'sesudahnya': 1, 'bersamaan': 1, 'mulai': 1, 'berlakunya': 1, 'konstitusi': 1, 'timor': 1, 'leste': 1, 'berstatus': 1, 'kerja': 2, 'salah': 2, 'satu': 2, 'banyak': 1, 'varietas': 1, 'melayu': 6, 'dasar': 5, 'dipakai': 1, 'baku': 3, 'tinggi': 1, 'melaka': 1, 'riau': 2, 'perkembangannya': 1, 'mengalami': 1, 'perubahan': 1, 'akibat': 1, 'lingkungan': 1, 'administrasi': 1, 'kolonial': 1, 'berbagai': 2, 'proses': 2, 'pembakuan': 1, 'sejak': 2, 'awal': 1, 'abad': 1, 'penamaan': 1, 'diawali': 1, 'dicanangkannya': 1, 'sumpah': 1, 'pemuda': 1, 'oktober': 1, 'menghindari': 1, 'kesan': 1, 'imperialisme': 1, 'apabila': 1, 'nama': 1, 'tetap': 1, 'digunakan': 6, 'menyebabkan': 1, 'berbedanya': 1, 'ini': 2, 'varian': 1, 'kepulauan': 1, 'maupun': 2, 'semenanjung': 1, 'malaya': 1, 'hingga': 1, 'merupakan': 1, 'hidup': 1, 'terus': 1, 'menghasilkan': 1, 'kata': 2, 'baru': 1, 'baik': 1, 'melalui': 1, 'penciptaan': 1, 'penyerapan': 1, 'daerah': 1, 'asing': 1, 'meskipun': 2, 'dipahami': 1, 'dituturkan': 1, 'lebih': 1, 'warga': 3, 'bukanlah': 1, 'ibu': 2, 'kebanyakan': 1, 'penuturnya': 1, 'sebagian': 2, 'besar': 1, 'menggunakan': 2, 'ada': 1, 'istilah': 1, 'paling': 1, 'umum': 1, 'dikaitkan': 1, 'situasi': 1, 'formal': 1, 'ragam': 1, 'tersebut': 1, 'berhubungan': 1, 'diglosik': 1, 'bentuk': 2, 'vernakular': 1, 'peranti': 1, 'komunikasi': 2, 'hari': 2, 'artinya': 1, 'penutur': 1, 'kerap': 1, 'kali': 1, 'versi': 1, 'colloquial': 1, 'mencampuradukkan': 1, 'dialek': 1, 'lainnya': 2, 'atau': 1, 'ibunya': 1, 'sangat': 1, 'luas': 1, 'perguruan': 2, 'media': 1, 'massa': 1, 'sastra': 1, 'perangkat': 1, 'lunak': 1, 'surat': 1, 'menyurat': 1, 'forum': 1, 'publik': 1, 'dapatlah': 1, 'dikatakan': 1, 'semua': 1, 'fonologi': 1, 'tata': 1, 'dianggap': 1, 'relatif': 1, 'mudah': 1, 'peneliti': 1, 'penting': 1, 'dipelajari': 1, 'dalam': 1, 'kurun': 1, 'waktu': 1, 'beberapa': 1, 'minggu': 1}\n"
     ]
    }
   ],
   "source": [
    "from Sastrawi.StopWordRemover.StopWordRemoverFactory import StopWordRemoverFactory\n",
    "factory = StopWordRemoverFactory()\n",
    "stopword = factory.create_stop_word_remover()\n",
    "stop = stopword.remove(formatted_article_text)\n",
    "\n",
    "#tokens = nltk.tokenize.word_tokenize(formatted_article_text)\n",
    "stopwords = nltk.corpus.stopwords.words('english')\n",
    "word_frequencies = {}\n",
    "for word in nltk.tokenize.word_tokenize(stop):\n",
    "    if word not in stopwords:\n",
    "        if word not in word_frequencies.keys():\n",
    "            word_frequencies[word] = 1\n",
    "        else:\n",
    "            word_frequencies[word] += 1\n",
    "            \n",
    "            \n",
    " #stopwords = nltk.corpus.stopwords.words('english')\n",
    "\n",
    "#word_frequencies = {}\n",
    "#for word in nltk.word_tokenize(formatted_article_text):\n",
    "#    if word not in stopwords:\n",
    "#        if word not in word_frequencies.keys():\n",
    "#            word_frequencies[word] = 1\n",
    "#        else:\n",
    "#            word_frequencies[word] += 1           \n",
    "            \n",
    "print(word_frequencies)           "
   ]
  },
  {
   "cell_type": "code",
   "execution_count": 32,
   "metadata": {},
   "outputs": [],
   "source": [
    "maximum_frequncy = max(word_frequencies.values())\n",
    "\n",
    "for word in word_frequencies.keys():\n",
    "    word_frequencies[word] = (word_frequencies[word]/maximum_frequncy)"
   ]
  },
  {
   "cell_type": "code",
   "execution_count": 33,
   "metadata": {},
   "outputs": [],
   "source": [
    "sentence_scores = {}\n",
    "for sent in sentence_list:\n",
    "    for word in nltk.word_tokenize(sent.lower()):\n",
    "        if word in word_frequencies.keys():\n",
    "            if len(sent.split(' ')) < 30:\n",
    "                if sent not in sentence_scores.keys():\n",
    "                    sentence_scores[sent] = word_frequencies[word]\n",
    "                else:\n",
    "                    sentence_scores[sent] += word_frequencies[word]"
   ]
  },
  {
   "cell_type": "code",
   "execution_count": 34,
   "metadata": {
    "scrolled": true
   },
   "outputs": [
    {
     "name": "stdout",
     "output_type": "stream",
     "text": [
      "hingga saat ini, bahasa indonesia merupakan bahasa yang hidup, yang terus menghasilkan kata-kata baru, baik melalui penciptaan maupun penyerapan dari bahasa daerah dan bahasa asing. bahasa indonesia adalah bahasa resmi republik indonesia dan bahasa persatuan bangsa indonesia. penamaan \"bahasa indonesia\" diawali sejak dicanangkannya sumpah pemuda pada 28 oktober 1928, untuk menghindari kesan \"imperialisme bahasa\" apabila nama bahasa melayu tetap digunakan. sebagian besar warga indonesia menggunakan salah satu dari 748 bahasa yang ada di indonesia sebagai bahasa ibu. meskipun dipahami dan dituturkan oleh lebih dari 90% warga indonesia, bahasa indonesia bukanlah bahasa ibu bagi kebanyakan penuturnya. proses ini menyebabkan berbedanya bahasa indonesia saat ini dari varian bahasa melayu yang digunakan di riau dan kepulauan maupun semenanjung malaya. dasar yang dipakai sebagai dasar bahasa indonesia baku adalah bahasa melayu tinggi (\"melaka/riau\").\n"
     ]
    }
   ],
   "source": [
    "import heapq\n",
    "summary_sentences = heapq.nlargest(7, sentence_scores, key=sentence_scores.get)\n",
    "\n",
    "summary = ' '.join(summary_sentences)\n",
    "print(summary)"
   ]
  },
  {
   "cell_type": "code",
   "execution_count": 35,
   "metadata": {},
   "outputs": [
    {
     "name": "stdout",
     "output_type": "stream",
     "text": [
      "Selain alasan pemutusan hubungan kerja sebagaimana dimaksud pada ayat (1) dapat ditetapkan alasan pemutusan hubungan kerja lainnya dalam perjanjian kerja , peraturan perusahaan atau perjanjian kerja bersama 3. Hubungan kerja antara perusahaan alih daya dengan pekerja/buruh yang dipekerjakannya didasarkan pada perjanjian kerja yang dibuat secara tertulis baik perjanjian kerja waktu tertentu atau perjanjian kerja waktu tidak tertentu. Perjanjian kerja untuk waktu tertentu yang tidak memenuhi ketentuan sebagaimana dimaksud pada ayat (1) dan ayat (2), maka demi hukum menjadi perjanjian kerja waktu tidak tertentu. Tindak pidana sebagaimana dimaksud pada ayat (1) merupakan tindak pidana pelanggaran. Ketentuan lebih lanjut mengenai besaran uang pesangon, uang penghargaan masa kerja dan uang penggantian hak sebagaimana dimaksud pada ayat (2), ayat (3) dan ayat (4) diatur dengan Peraturan Pemerintah. Dalam hal disyaratkan masa percobaan kerja sebagaimana dimaksud pada ayat (1), masa percobaan kerja yang disyaratkan tersebut batal demi hukum dan masa kerja tetap dihitung. Ketentuan lebih lanjut mengenai tata cara penetapan upah minimum sebagaimana dimaksud pada ayat (3) dan syarat tertentu sebagaimana dimaksud pada ayat (4) diatur dengan Peraturan Pemerintah.\n"
     ]
    }
   ],
   "source": [
    "import bs4 as bs\n",
    "import urllib.request\n",
    "import re\n",
    "import nltk\n",
    "import Sastrawi\n",
    "from Sastrawi.StopWordRemover.StopWordRemoverFactory import StopWordRemoverFactory\n",
    "import heapq\n",
    "\n",
    "file1 = open(\"C:/Users/E0405123/Documents/Project 2020/Digital Dashboard/98147056179/Sample.txt\",\"r+\") \n",
    "#print (\"Output of Read function is \")\n",
    "#print (file1.read() )\n",
    "\n",
    "article = file1.read()\n",
    "#article_lower = article.lower()\n",
    "parsed_article = bs.BeautifulSoup(article,'lxml')\n",
    "\n",
    "paragraphs = parsed_article.find_all('p')\n",
    "\n",
    "article_text = \"\"\n",
    "\n",
    "for p in paragraphs:\n",
    "    article_text += p.text\n",
    "\n",
    "    \n",
    "    \n",
    "    \n",
    "# Removing Square Brackets and Extra Spaces\n",
    "article_text = re.sub(r'\\[[0-9]*\\]', ' ', article_text)\n",
    "article_text = re.sub(r'\\s+', ' ', article_text)\n",
    "\n",
    "# Removing special characters and digits\n",
    "formatted_article_text = re.sub('[^a-zA-Z]', ' ', article_text )\n",
    "formatted_article_text = re.sub(r'\\s+', ' ', formatted_article_text)\n",
    "\n",
    "sentence_list = nltk.sent_tokenize(article_text)\n",
    "\n",
    "\n",
    "\n",
    "factory = StopWordRemoverFactory()\n",
    "stopword = factory.create_stop_word_remover()\n",
    "stop = stopword.remove(formatted_article_text)\n",
    "\n",
    "#tokens = nltk.tokenize.word_tokenize(formatted_article_text)\n",
    "stopwords = nltk.corpus.stopwords.words('english')\n",
    "word_frequencies = {}\n",
    "for word in nltk.tokenize.word_tokenize(stop):\n",
    "    if word not in stopwords:\n",
    "        if word not in word_frequencies.keys():\n",
    "            word_frequencies[word] = 1\n",
    "        else:\n",
    "            word_frequencies[word] += 1\n",
    "\n",
    "            \n",
    "maximum_frequncy = max(word_frequencies.values())\n",
    "\n",
    "for word in word_frequencies.keys():\n",
    "    word_frequencies[word] = (word_frequencies[word]/maximum_frequncy)            \n",
    "    \n",
    "    \n",
    "sentence_scores = {}\n",
    "for sent in sentence_list:\n",
    "    for word in nltk.word_tokenize(sent.lower()):\n",
    "        if word in word_frequencies.keys():\n",
    "            if len(sent.split(' ')) < 30:\n",
    "                if sent not in sentence_scores.keys():\n",
    "                    sentence_scores[sent] = word_frequencies[word]\n",
    "                else:\n",
    "                    sentence_scores[sent] += word_frequencies[word]\n",
    "                    \n",
    "                    \n",
    "\n",
    "summary_sentences = heapq.nlargest(7, sentence_scores, key=sentence_scores.get)\n",
    "\n",
    "summary = ' '.join(summary_sentences)\n",
    "print(summary)                    "
   ]
  },
  {
   "cell_type": "code",
   "execution_count": null,
   "metadata": {},
   "outputs": [],
   "source": []
  },
  {
   "cell_type": "code",
   "execution_count": null,
   "metadata": {},
   "outputs": [],
   "source": []
  },
  {
   "cell_type": "code",
   "execution_count": null,
   "metadata": {},
   "outputs": [],
   "source": []
  }
 ],
 "metadata": {
  "kernelspec": {
   "display_name": "Python 3",
   "language": "python",
   "name": "python3"
  },
  "language_info": {
   "codemirror_mode": {
    "name": "ipython",
    "version": 3
   },
   "file_extension": ".py",
   "mimetype": "text/x-python",
   "name": "python",
   "nbconvert_exporter": "python",
   "pygments_lexer": "ipython3",
   "version": "3.7.3"
  }
 },
 "nbformat": 4,
 "nbformat_minor": 2
}
